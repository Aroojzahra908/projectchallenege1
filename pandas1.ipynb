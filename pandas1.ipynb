{
 "cells": [
  {
   "cell_type": "markdown",
   "id": "ba30fb3d",
   "metadata": {},
   "source": [
    "# pandas<< series, dataframes\n"
   ]
  },
  {
   "cell_type": "code",
   "execution_count": 1,
   "id": "a8980c17",
   "metadata": {},
   "outputs": [],
   "source": [
    "import pandas as pd"
   ]
  },
  {
   "cell_type": "code",
   "execution_count": 3,
   "id": "c3ee4bb1",
   "metadata": {},
   "outputs": [
    {
     "data": {
      "text/plain": [
       "0    4\n",
       "1    5\n",
       "2    6\n",
       "3    7\n",
       "dtype: int64"
      ]
     },
     "execution_count": 3,
     "metadata": {},
     "output_type": "execute_result"
    }
   ],
   "source": [
    "obj= pd.Series([4,5,6,7])\n",
    "obj"
   ]
  },
  {
   "cell_type": "code",
   "execution_count": 4,
   "id": "db5d0ec8",
   "metadata": {},
   "outputs": [
    {
     "data": {
      "text/plain": [
       "0    A\n",
       "1    B\n",
       "2    C\n",
       "3    D\n",
       "dtype: object"
      ]
     },
     "execution_count": 4,
     "metadata": {},
     "output_type": "execute_result"
    }
   ],
   "source": [
    "#series\n",
    "a= pd.Series([\"A\", \"B\", \"C\", \"D\"])\n",
    "a"
   ]
  },
  {
   "cell_type": "code",
   "execution_count": 5,
   "id": "1692dfeb",
   "metadata": {},
   "outputs": [
    {
     "data": {
      "text/plain": [
       "array(['A', 'B', 'C', 'D'], dtype=object)"
      ]
     },
     "execution_count": 5,
     "metadata": {},
     "output_type": "execute_result"
    }
   ],
   "source": [
    "#values\n",
    "a.values"
   ]
  },
  {
   "cell_type": "code",
   "execution_count": 6,
   "id": "10b7b8d8",
   "metadata": {},
   "outputs": [
    {
     "data": {
      "text/plain": [
       "RangeIndex(start=0, stop=4, step=1)"
      ]
     },
     "execution_count": 6,
     "metadata": {},
     "output_type": "execute_result"
    }
   ],
   "source": [
    "#index\n",
    "a.index"
   ]
  },
  {
   "cell_type": "code",
   "execution_count": 14,
   "id": "26dfefca",
   "metadata": {},
   "outputs": [
    {
     "data": {
      "text/plain": [
       "A    11\n",
       "B    22\n",
       "C    33\n",
       "D    44\n",
       "dtype: int64"
      ]
     },
     "execution_count": 14,
     "metadata": {},
     "output_type": "execute_result"
    }
   ],
   "source": [
    "arr= pd.Series([11,22,33,44], index=[\"A\", \"B\", \"C\", \"D\"])\n",
    "arr"
   ]
  },
  {
   "cell_type": "markdown",
   "id": "d4af0380",
   "metadata": {},
   "source": [
    "# Access data"
   ]
  },
  {
   "cell_type": "code",
   "execution_count": 15,
   "id": "fae24c2c",
   "metadata": {},
   "outputs": [
    {
     "data": {
      "text/plain": [
       "22"
      ]
     },
     "execution_count": 15,
     "metadata": {},
     "output_type": "execute_result"
    }
   ],
   "source": [
    "arr[1]"
   ]
  },
  {
   "cell_type": "code",
   "execution_count": 16,
   "id": "7611259a",
   "metadata": {},
   "outputs": [
    {
     "data": {
      "text/plain": [
       "33"
      ]
     },
     "execution_count": 16,
     "metadata": {},
     "output_type": "execute_result"
    }
   ],
   "source": [
    "arr[2]"
   ]
  },
  {
   "cell_type": "code",
   "execution_count": null,
   "id": "2c3eb163",
   "metadata": {},
   "outputs": [],
   "source": [
    "#to get multiple values then we use"
   ]
  },
  {
   "cell_type": "code",
   "execution_count": 22,
   "id": "2874c3b6",
   "metadata": {},
   "outputs": [
    {
     "data": {
      "text/plain": [
       "A    11\n",
       "C    33\n",
       "D    44\n",
       "dtype: int64"
      ]
     },
     "execution_count": 22,
     "metadata": {},
     "output_type": "execute_result"
    }
   ],
   "source": [
    "arr[[0,2,3]]"
   ]
  },
  {
   "cell_type": "code",
   "execution_count": 24,
   "id": "2ae7bb85",
   "metadata": {},
   "outputs": [
    {
     "data": {
      "text/plain": [
       "A    False\n",
       "B     True\n",
       "C     True\n",
       "D     True\n",
       "dtype: bool"
      ]
     },
     "execution_count": 24,
     "metadata": {},
     "output_type": "execute_result"
    }
   ],
   "source": [
    "arr>20 "
   ]
  },
  {
   "cell_type": "code",
   "execution_count": null,
   "id": "2e1a7f23",
   "metadata": {},
   "outputs": [],
   "source": [
    "Modify data by +,-,/,*"
   ]
  },
  {
   "cell_type": "code",
   "execution_count": 25,
   "id": "8497f6f4",
   "metadata": {},
   "outputs": [
    {
     "data": {
      "text/plain": [
       "A     9\n",
       "B    20\n",
       "C    31\n",
       "D    42\n",
       "dtype: int64"
      ]
     },
     "execution_count": 25,
     "metadata": {},
     "output_type": "execute_result"
    }
   ],
   "source": [
    "arr-2"
   ]
  },
  {
   "cell_type": "code",
   "execution_count": 26,
   "id": "f168e27c",
   "metadata": {},
   "outputs": [
    {
     "data": {
      "text/plain": [
       "A    13\n",
       "B    24\n",
       "C    35\n",
       "D    46\n",
       "dtype: int64"
      ]
     },
     "execution_count": 26,
     "metadata": {},
     "output_type": "execute_result"
    }
   ],
   "source": [
    "arr+2"
   ]
  },
  {
   "cell_type": "code",
   "execution_count": 27,
   "id": "df5a50b6",
   "metadata": {},
   "outputs": [
    {
     "data": {
      "text/plain": [
       "A     3.666667\n",
       "B     7.333333\n",
       "C    11.000000\n",
       "D    14.666667\n",
       "dtype: float64"
      ]
     },
     "execution_count": 27,
     "metadata": {},
     "output_type": "execute_result"
    }
   ],
   "source": [
    "arr/3"
   ]
  },
  {
   "cell_type": "code",
   "execution_count": 28,
   "id": "61b32c4c",
   "metadata": {},
   "outputs": [
    {
     "data": {
      "text/plain": [
       "A     33\n",
       "B     66\n",
       "C     99\n",
       "D    132\n",
       "dtype: int64"
      ]
     },
     "execution_count": 28,
     "metadata": {},
     "output_type": "execute_result"
    }
   ],
   "source": [
    "arr*3"
   ]
  },
  {
   "cell_type": "code",
   "execution_count": 29,
   "id": "394e5d5f",
   "metadata": {},
   "outputs": [
    {
     "data": {
      "text/plain": [
       "A    1\n",
       "B    0\n",
       "C    1\n",
       "D    0\n",
       "dtype: int64"
      ]
     },
     "execution_count": 29,
     "metadata": {},
     "output_type": "execute_result"
    }
   ],
   "source": [
    "arr%2"
   ]
  },
  {
   "cell_type": "code",
   "execution_count": 31,
   "id": "8a7f1572",
   "metadata": {},
   "outputs": [
    {
     "data": {
      "text/plain": [
       "True"
      ]
     },
     "execution_count": 31,
     "metadata": {},
     "output_type": "execute_result"
    }
   ],
   "source": [
    "\"A\" in arr"
   ]
  },
  {
   "cell_type": "code",
   "execution_count": 32,
   "id": "bfdd9685",
   "metadata": {},
   "outputs": [
    {
     "data": {
      "text/plain": [
       "False"
      ]
     },
     "execution_count": 32,
     "metadata": {},
     "output_type": "execute_result"
    }
   ],
   "source": [
    "1 in arr"
   ]
  },
  {
   "cell_type": "code",
   "execution_count": 33,
   "id": "5b8baf41",
   "metadata": {},
   "outputs": [],
   "source": [
    "import numpy as np"
   ]
  },
  {
   "cell_type": "code",
   "execution_count": 41,
   "id": "249cb80b",
   "metadata": {},
   "outputs": [
    {
     "data": {
      "text/plain": [
       "array([11, 22, 33, 44])"
      ]
     },
     "execution_count": 41,
     "metadata": {},
     "output_type": "execute_result"
    }
   ],
   "source": [
    "array=np.array([11,22,33,44])\n",
    "array\n"
   ]
  },
  {
   "cell_type": "code",
   "execution_count": 42,
   "id": "afbfb8d9",
   "metadata": {},
   "outputs": [
    {
     "data": {
      "text/plain": [
       "0    11\n",
       "1    22\n",
       "2    33\n",
       "3    44\n",
       "dtype: int32"
      ]
     },
     "execution_count": 42,
     "metadata": {},
     "output_type": "execute_result"
    }
   ],
   "source": [
    "series=pd.Series(array)\n",
    "series"
   ]
  },
  {
   "cell_type": "markdown",
   "id": "1b4c63d9",
   "metadata": {},
   "source": [
    "# From dictionary to pandas series"
   ]
  },
  {
   "cell_type": "code",
   "execution_count": 48,
   "id": "1600a47e",
   "metadata": {},
   "outputs": [],
   "source": [
    "week_days={\"monday\":1, \"tuesday\":2, \"wednesday\":3, \"thursday\":4 , \"friday\":5, \"saturday\": 6, \"sunday\": 7}"
   ]
  },
  {
   "cell_type": "code",
   "execution_count": 49,
   "id": "6da1564c",
   "metadata": {},
   "outputs": [
    {
     "data": {
      "text/plain": [
       "monday       1\n",
       "tuesday      2\n",
       "wednesday    3\n",
       "thursday     4\n",
       "friday       5\n",
       "saturday     6\n",
       "sunday       7\n",
       "dtype: int64"
      ]
     },
     "execution_count": 49,
     "metadata": {},
     "output_type": "execute_result"
    }
   ],
   "source": [
    "week_series=pd.Series(week_days)\n",
    "week_series"
   ]
  },
  {
   "cell_type": "markdown",
   "id": "0150b81b",
   "metadata": {},
   "source": [
    "# how to add 2 different series and what is the concept behind this???"
   ]
  },
  {
   "cell_type": "code",
   "execution_count": 55,
   "id": "8933fdf1",
   "metadata": {},
   "outputs": [
    {
     "name": "stdout",
     "output_type": "stream",
     "text": [
      "0    37\n",
      "1    49\n",
      "2    61\n",
      "dtype: int64\n"
     ]
    }
   ],
   "source": [
    "A= pd.Series([33,44,55])              \n",
    "B = pd.Series([4, 5, 6])\n",
    "result=A+B\n",
    "print(result)"
   ]
  },
  {
   "cell_type": "markdown",
   "id": "cb6a2656",
   "metadata": {},
   "source": [
    "# two series have different lengths"
   ]
  },
  {
   "cell_type": "code",
   "execution_count": 56,
   "id": "8d23bffd",
   "metadata": {},
   "outputs": [
    {
     "name": "stdout",
     "output_type": "stream",
     "text": [
      "0    37.0\n",
      "1    49.0\n",
      "2     NaN\n",
      "dtype: float64\n"
     ]
    }
   ],
   "source": [
    "A= pd.Series([33,44,55])              \n",
    "B = pd.Series([4, 5])\n",
    "result=A+B\n",
    "print(result)       #there is no corresponding value for the third index in b,\n",
    "                     #Pandas assigns NaN to that element in the result."
   ]
  }
 ],
 "metadata": {
  "kernelspec": {
   "display_name": "Python 3 (ipykernel)",
   "language": "python",
   "name": "python3"
  },
  "language_info": {
   "codemirror_mode": {
    "name": "ipython",
    "version": 3
   },
   "file_extension": ".py",
   "mimetype": "text/x-python",
   "name": "python",
   "nbconvert_exporter": "python",
   "pygments_lexer": "ipython3",
   "version": "3.9.12"
  }
 },
 "nbformat": 4,
 "nbformat_minor": 5
}
